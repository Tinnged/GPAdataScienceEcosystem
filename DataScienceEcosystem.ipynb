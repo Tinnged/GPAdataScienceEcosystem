{
 "cells": [
  {
   "cell_type": "markdown",
   "id": "3a7a0c26-e5ae-4f98-a7ec-080ce9e0c1b1",
   "metadata": {},
   "source": [
    "# Data Science Tools and Ecosystem"
   ]
  },
  {
   "cell_type": "markdown",
   "id": "6e967d43-c9a4-42ab-992f-891cb8cc5f71",
   "metadata": {},
   "source": [
    "## Author\n",
    "Gabriel Porras Avila"
   ]
  },
  {
   "cell_type": "markdown",
   "id": "638cb9eb-772a-4b09-ad50-cd6824ef206f",
   "metadata": {},
   "source": [
    "In this notebook, Data Science Tools and Ecosystem are summarized."
   ]
  },
  {
   "cell_type": "markdown",
   "id": "b9cfb35a-ff96-41ea-9ad6-21bd46a88073",
   "metadata": {},
   "source": [
    "Objectives:\n",
    "- List different programming languages used by Data Scientists\n",
    "- List different tools used in Data Science\n",
    "- Apply new knowledge of these new tools"
   ]
  },
  {
   "cell_type": "markdown",
   "id": "a8f92bbd-22b8-4446-9357-314877cd6f3f",
   "metadata": {},
   "source": [
    "Some of the popular languages that Data Scientists use are:\n",
    "1. Pyhon\n",
    "2. R\n",
    "3. Julia"
   ]
  },
  {
   "cell_type": "markdown",
   "id": "19c058d2-1fdb-460d-b4eb-0f18257af9f9",
   "metadata": {},
   "source": [
    "Some of the commonly used libraries used by Data Scientists include:\n",
    "1. NumPy\n",
    "2. Pandas\n",
    "3. TensorFlow"
   ]
  },
  {
   "cell_type": "markdown",
   "id": "6b4e09b0-bbf3-4331-9aed-1aa524284b0f",
   "metadata": {},
   "source": [
    "Data Science Tools|\n",
    "------------------|\n",
    "Jupyter Notebook  |\n",
    "RStudio           |\n",
    "Apache Spark      |\n",
    "    "
   ]
  },
  {
   "cell_type": "markdown",
   "id": "48cda879-4705-408c-8c84-0f4801bbb64d",
   "metadata": {},
   "source": [
    "### Below are a few examples of evaluating arithmetic expressions in Python"
   ]
  },
  {
   "cell_type": "code",
   "execution_count": 6,
   "id": "645f31f2-7dc6-47fd-b8c6-a8f6c89bc5f1",
   "metadata": {},
   "outputs": [
    {
     "data": {
      "text/plain": [
       "17"
      ]
     },
     "execution_count": 6,
     "metadata": {},
     "output_type": "execute_result"
    }
   ],
   "source": [
    "# This a simple arithmetic expression to mutiply then add integers\n",
    "(3*4)+5"
   ]
  },
  {
   "cell_type": "code",
   "execution_count": 7,
   "id": "00df7cf1-de19-4c94-a09b-ee814b2364ae",
   "metadata": {},
   "outputs": [
    {
     "name": "stdout",
     "output_type": "stream",
     "text": [
      "200 minutes = 3.3333333333333335 hours\n"
     ]
    }
   ],
   "source": [
    "# This will convert 200 minutes to hours by dividing by 60\n",
    "minutes = 200\n",
    "hours = minutes / 60\n",
    "print(f\"{200} minutes = {hours} hours\")"
   ]
  },
  {
   "cell_type": "markdown",
   "id": "385dd163-6c81-464b-9ed1-2e4e4efac6cd",
   "metadata": {},
   "source": []
  }
 ],
 "metadata": {
  "kernelspec": {
   "display_name": "Python 3 (ipykernel)",
   "language": "python",
   "name": "python3"
  },
  "language_info": {
   "codemirror_mode": {
    "name": "ipython",
    "version": 3
   },
   "file_extension": ".py",
   "mimetype": "text/x-python",
   "name": "python",
   "nbconvert_exporter": "python",
   "pygments_lexer": "ipython3",
   "version": "3.13.1"
  }
 },
 "nbformat": 4,
 "nbformat_minor": 5
}
